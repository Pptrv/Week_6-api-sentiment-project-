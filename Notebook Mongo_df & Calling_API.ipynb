{
 "cells": [
  {
   "cell_type": "markdown",
   "metadata": {},
   "source": [
    "## Librerias"
   ]
  },
  {
   "cell_type": "code",
   "execution_count": 1,
   "metadata": {},
   "outputs": [],
   "source": [
    "import pandas as pd\n",
    "import numpy as np\n",
    "from flask import Flask, request \n",
    "from pymongo import MongoClient\n",
    "import requests\n",
    "import markdown.extensions.fenced_code"
   ]
  },
  {
   "cell_type": "markdown",
   "metadata": {},
   "source": [
    "## Datos en Base de datos para Mongo"
   ]
  },
  {
   "cell_type": "code",
   "execution_count": 2,
   "metadata": {},
   "outputs": [
    {
     "name": "stdout",
     "output_type": "stream",
     "text": [
      "\u001b[34mData\u001b[m\u001b[m                                  \u001b[34mconfig\u001b[m\u001b[m\r\n",
      "Notebook Mongo_df & Calling_API.ipynb miapi.py\r\n",
      "Notebook Sentiment_Analysis.ipynb     \u001b[34mtools\u001b[m\u001b[m\r\n",
      "README.md\r\n"
     ]
    }
   ],
   "source": [
    "!ls"
   ]
  },
  {
   "cell_type": "code",
   "execution_count": 3,
   "metadata": {},
   "outputs": [
    {
     "data": {
      "text/html": [
       "<div>\n",
       "<style scoped>\n",
       "    .dataframe tbody tr th:only-of-type {\n",
       "        vertical-align: middle;\n",
       "    }\n",
       "\n",
       "    .dataframe tbody tr th {\n",
       "        vertical-align: top;\n",
       "    }\n",
       "\n",
       "    .dataframe thead th {\n",
       "        text-align: right;\n",
       "    }\n",
       "</style>\n",
       "<table border=\"1\" class=\"dataframe\">\n",
       "  <thead>\n",
       "    <tr style=\"text-align: right;\">\n",
       "      <th></th>\n",
       "      <th>0</th>\n",
       "      <th>1</th>\n",
       "      <th>2</th>\n",
       "      <th>3</th>\n",
       "      <th>4</th>\n",
       "      <th>5</th>\n",
       "      <th>6</th>\n",
       "      <th>7</th>\n",
       "      <th>8</th>\n",
       "      <th>9</th>\n",
       "    </tr>\n",
       "  </thead>\n",
       "  <tbody>\n",
       "    <tr>\n",
       "      <th>0</th>\n",
       "      <td>\"character\" \"dialogue\"</td>\n",
       "      <td>NaN</td>\n",
       "      <td>NaN</td>\n",
       "      <td>NaN</td>\n",
       "      <td>NaN</td>\n",
       "      <td>NaN</td>\n",
       "      <td>NaN</td>\n",
       "      <td>NaN</td>\n",
       "      <td>NaN</td>\n",
       "      <td>NaN</td>\n",
       "    </tr>\n",
       "    <tr>\n",
       "      <th>1</th>\n",
       "      <td>\"1\" \"THREEPIO\" \"Did you hear that?  They've sh...</td>\n",
       "      <td>NaN</td>\n",
       "      <td>NaN</td>\n",
       "      <td>NaN</td>\n",
       "      <td>NaN</td>\n",
       "      <td>NaN</td>\n",
       "      <td>NaN</td>\n",
       "      <td>NaN</td>\n",
       "      <td>NaN</td>\n",
       "      <td>NaN</td>\n",
       "    </tr>\n",
       "    <tr>\n",
       "      <th>2</th>\n",
       "      <td>\"2\" \"THREEPIO\" \"We're doomed!\"</td>\n",
       "      <td>NaN</td>\n",
       "      <td>NaN</td>\n",
       "      <td>NaN</td>\n",
       "      <td>NaN</td>\n",
       "      <td>NaN</td>\n",
       "      <td>NaN</td>\n",
       "      <td>NaN</td>\n",
       "      <td>NaN</td>\n",
       "      <td>NaN</td>\n",
       "    </tr>\n",
       "    <tr>\n",
       "      <th>3</th>\n",
       "      <td>\"3\" \"THREEPIO\" \"There'll be no escape for the ...</td>\n",
       "      <td>NaN</td>\n",
       "      <td>NaN</td>\n",
       "      <td>NaN</td>\n",
       "      <td>NaN</td>\n",
       "      <td>NaN</td>\n",
       "      <td>NaN</td>\n",
       "      <td>NaN</td>\n",
       "      <td>NaN</td>\n",
       "      <td>NaN</td>\n",
       "    </tr>\n",
       "    <tr>\n",
       "      <th>4</th>\n",
       "      <td>\"4\" \"THREEPIO\" \"What's that?\"</td>\n",
       "      <td>NaN</td>\n",
       "      <td>NaN</td>\n",
       "      <td>NaN</td>\n",
       "      <td>NaN</td>\n",
       "      <td>NaN</td>\n",
       "      <td>NaN</td>\n",
       "      <td>NaN</td>\n",
       "      <td>NaN</td>\n",
       "      <td>NaN</td>\n",
       "    </tr>\n",
       "    <tr>\n",
       "      <th>...</th>\n",
       "      <td>...</td>\n",
       "      <td>...</td>\n",
       "      <td>...</td>\n",
       "      <td>...</td>\n",
       "      <td>...</td>\n",
       "      <td>...</td>\n",
       "      <td>...</td>\n",
       "      <td>...</td>\n",
       "      <td>...</td>\n",
       "      <td>...</td>\n",
       "    </tr>\n",
       "    <tr>\n",
       "      <th>1006</th>\n",
       "      <td>\"1006\" \"LUKE\" \"Oh, no!\"</td>\n",
       "      <td>NaN</td>\n",
       "      <td>NaN</td>\n",
       "      <td>NaN</td>\n",
       "      <td>NaN</td>\n",
       "      <td>NaN</td>\n",
       "      <td>NaN</td>\n",
       "      <td>NaN</td>\n",
       "      <td>NaN</td>\n",
       "      <td>NaN</td>\n",
       "    </tr>\n",
       "    <tr>\n",
       "      <th>1007</th>\n",
       "      <td>\"1007\" \"THREEPIO\" \"Oh, my!  Artoo!  Can you he...</td>\n",
       "      <td>NaN</td>\n",
       "      <td>NaN</td>\n",
       "      <td>NaN</td>\n",
       "      <td>NaN</td>\n",
       "      <td>NaN</td>\n",
       "      <td>NaN</td>\n",
       "      <td>NaN</td>\n",
       "      <td>NaN</td>\n",
       "      <td>NaN</td>\n",
       "    </tr>\n",
       "    <tr>\n",
       "      <th>1008</th>\n",
       "      <td>\"1008\" \"TECHNICIAN\" \"We'll get to work on him ...</td>\n",
       "      <td>NaN</td>\n",
       "      <td>NaN</td>\n",
       "      <td>NaN</td>\n",
       "      <td>NaN</td>\n",
       "      <td>NaN</td>\n",
       "      <td>NaN</td>\n",
       "      <td>NaN</td>\n",
       "      <td>NaN</td>\n",
       "      <td>NaN</td>\n",
       "    </tr>\n",
       "    <tr>\n",
       "      <th>1009</th>\n",
       "      <td>\"1009\" \"THREEPIO\" \"You must repair him!  Sir, ...</td>\n",
       "      <td>NaN</td>\n",
       "      <td>NaN</td>\n",
       "      <td>NaN</td>\n",
       "      <td>NaN</td>\n",
       "      <td>NaN</td>\n",
       "      <td>NaN</td>\n",
       "      <td>NaN</td>\n",
       "      <td>NaN</td>\n",
       "      <td>NaN</td>\n",
       "    </tr>\n",
       "    <tr>\n",
       "      <th>1010</th>\n",
       "      <td>\"1010\" \"LUKE\" \"He'll be all right.\"</td>\n",
       "      <td>NaN</td>\n",
       "      <td>NaN</td>\n",
       "      <td>NaN</td>\n",
       "      <td>NaN</td>\n",
       "      <td>NaN</td>\n",
       "      <td>NaN</td>\n",
       "      <td>NaN</td>\n",
       "      <td>NaN</td>\n",
       "      <td>NaN</td>\n",
       "    </tr>\n",
       "  </tbody>\n",
       "</table>\n",
       "<p>1011 rows × 10 columns</p>\n",
       "</div>"
      ],
      "text/plain": [
       "                                                      0    1    2    3    4  \\\n",
       "0                                \"character\" \"dialogue\"  NaN  NaN  NaN  NaN   \n",
       "1     \"1\" \"THREEPIO\" \"Did you hear that?  They've sh...  NaN  NaN  NaN  NaN   \n",
       "2                        \"2\" \"THREEPIO\" \"We're doomed!\"  NaN  NaN  NaN  NaN   \n",
       "3     \"3\" \"THREEPIO\" \"There'll be no escape for the ...  NaN  NaN  NaN  NaN   \n",
       "4                         \"4\" \"THREEPIO\" \"What's that?\"  NaN  NaN  NaN  NaN   \n",
       "...                                                 ...  ...  ...  ...  ...   \n",
       "1006                            \"1006\" \"LUKE\" \"Oh, no!\"  NaN  NaN  NaN  NaN   \n",
       "1007  \"1007\" \"THREEPIO\" \"Oh, my!  Artoo!  Can you he...  NaN  NaN  NaN  NaN   \n",
       "1008  \"1008\" \"TECHNICIAN\" \"We'll get to work on him ...  NaN  NaN  NaN  NaN   \n",
       "1009  \"1009\" \"THREEPIO\" \"You must repair him!  Sir, ...  NaN  NaN  NaN  NaN   \n",
       "1010                \"1010\" \"LUKE\" \"He'll be all right.\"  NaN  NaN  NaN  NaN   \n",
       "\n",
       "        5    6    7    8    9  \n",
       "0     NaN  NaN  NaN  NaN  NaN  \n",
       "1     NaN  NaN  NaN  NaN  NaN  \n",
       "2     NaN  NaN  NaN  NaN  NaN  \n",
       "3     NaN  NaN  NaN  NaN  NaN  \n",
       "4     NaN  NaN  NaN  NaN  NaN  \n",
       "...   ...  ...  ...  ...  ...  \n",
       "1006  NaN  NaN  NaN  NaN  NaN  \n",
       "1007  NaN  NaN  NaN  NaN  NaN  \n",
       "1008  NaN  NaN  NaN  NaN  NaN  \n",
       "1009  NaN  NaN  NaN  NaN  NaN  \n",
       "1010  NaN  NaN  NaN  NaN  NaN  \n",
       "\n",
       "[1011 rows x 10 columns]"
      ]
     },
     "execution_count": 3,
     "metadata": {},
     "output_type": "execute_result"
    }
   ],
   "source": [
    "data = pd.read_fwf(\"Data/SW_EpisodeIV.txt\",header=None)\n",
    "data"
   ]
  },
  {
   "cell_type": "code",
   "execution_count": 4,
   "metadata": {},
   "outputs": [],
   "source": [
    "del data[1]\n",
    "del data[2]\n",
    "del data[3]\n",
    "del data[4]\n",
    "del data[5]\n",
    "del data[6]\n",
    "del data[7]\n",
    "del data[8]\n",
    "del data[9]"
   ]
  },
  {
   "cell_type": "code",
   "execution_count": 5,
   "metadata": {},
   "outputs": [
    {
     "data": {
      "text/html": [
       "<div>\n",
       "<style scoped>\n",
       "    .dataframe tbody tr th:only-of-type {\n",
       "        vertical-align: middle;\n",
       "    }\n",
       "\n",
       "    .dataframe tbody tr th {\n",
       "        vertical-align: top;\n",
       "    }\n",
       "\n",
       "    .dataframe thead th {\n",
       "        text-align: right;\n",
       "    }\n",
       "</style>\n",
       "<table border=\"1\" class=\"dataframe\">\n",
       "  <thead>\n",
       "    <tr style=\"text-align: right;\">\n",
       "      <th></th>\n",
       "      <th>0</th>\n",
       "    </tr>\n",
       "  </thead>\n",
       "  <tbody>\n",
       "    <tr>\n",
       "      <th>1</th>\n",
       "      <td>\"1\" \"THREEPIO\" \"Did you hear that?  They've sh...</td>\n",
       "    </tr>\n",
       "    <tr>\n",
       "      <th>2</th>\n",
       "      <td>\"2\" \"THREEPIO\" \"We're doomed!\"</td>\n",
       "    </tr>\n",
       "    <tr>\n",
       "      <th>3</th>\n",
       "      <td>\"3\" \"THREEPIO\" \"There'll be no escape for the ...</td>\n",
       "    </tr>\n",
       "    <tr>\n",
       "      <th>4</th>\n",
       "      <td>\"4\" \"THREEPIO\" \"What's that?\"</td>\n",
       "    </tr>\n",
       "    <tr>\n",
       "      <th>5</th>\n",
       "      <td>\"5\" \"THREEPIO\" \"I should have known better tha...</td>\n",
       "    </tr>\n",
       "    <tr>\n",
       "      <th>...</th>\n",
       "      <td>...</td>\n",
       "    </tr>\n",
       "    <tr>\n",
       "      <th>1006</th>\n",
       "      <td>\"1006\" \"LUKE\" \"Oh, no!\"</td>\n",
       "    </tr>\n",
       "    <tr>\n",
       "      <th>1007</th>\n",
       "      <td>\"1007\" \"THREEPIO\" \"Oh, my!  Artoo!  Can you he...</td>\n",
       "    </tr>\n",
       "    <tr>\n",
       "      <th>1008</th>\n",
       "      <td>\"1008\" \"TECHNICIAN\" \"We'll get to work on him ...</td>\n",
       "    </tr>\n",
       "    <tr>\n",
       "      <th>1009</th>\n",
       "      <td>\"1009\" \"THREEPIO\" \"You must repair him!  Sir, ...</td>\n",
       "    </tr>\n",
       "    <tr>\n",
       "      <th>1010</th>\n",
       "      <td>\"1010\" \"LUKE\" \"He'll be all right.\"</td>\n",
       "    </tr>\n",
       "  </tbody>\n",
       "</table>\n",
       "<p>1010 rows × 1 columns</p>\n",
       "</div>"
      ],
      "text/plain": [
       "                                                      0\n",
       "1     \"1\" \"THREEPIO\" \"Did you hear that?  They've sh...\n",
       "2                        \"2\" \"THREEPIO\" \"We're doomed!\"\n",
       "3     \"3\" \"THREEPIO\" \"There'll be no escape for the ...\n",
       "4                         \"4\" \"THREEPIO\" \"What's that?\"\n",
       "5     \"5\" \"THREEPIO\" \"I should have known better tha...\n",
       "...                                                 ...\n",
       "1006                            \"1006\" \"LUKE\" \"Oh, no!\"\n",
       "1007  \"1007\" \"THREEPIO\" \"Oh, my!  Artoo!  Can you he...\n",
       "1008  \"1008\" \"TECHNICIAN\" \"We'll get to work on him ...\n",
       "1009  \"1009\" \"THREEPIO\" \"You must repair him!  Sir, ...\n",
       "1010                \"1010\" \"LUKE\" \"He'll be all right.\"\n",
       "\n",
       "[1010 rows x 1 columns]"
      ]
     },
     "execution_count": 5,
     "metadata": {},
     "output_type": "execute_result"
    }
   ],
   "source": [
    "data = data.iloc[1:]\n",
    "data"
   ]
  },
  {
   "cell_type": "code",
   "execution_count": 6,
   "metadata": {},
   "outputs": [],
   "source": [
    "sw_data = data[0].str.split(\" \", n = 2, expand = True)\n",
    "sw_data.rename(columns={0:'Line_order', 1:'Character', 2:'Dialogue'}, inplace=True)\n",
    "sw_data.Character = sw_data.Character.apply(lambda x: x.strip('\"'))\n",
    "sw_data.Line_order = sw_data.Line_order.apply(lambda x: x.strip('\"'))\n",
    "sw_data.Dialogue = sw_data.Dialogue.apply(lambda x: x.strip('\"'))"
   ]
  },
  {
   "cell_type": "code",
   "execution_count": 7,
   "metadata": {},
   "outputs": [
    {
     "data": {
      "text/html": [
       "<div>\n",
       "<style scoped>\n",
       "    .dataframe tbody tr th:only-of-type {\n",
       "        vertical-align: middle;\n",
       "    }\n",
       "\n",
       "    .dataframe tbody tr th {\n",
       "        vertical-align: top;\n",
       "    }\n",
       "\n",
       "    .dataframe thead th {\n",
       "        text-align: right;\n",
       "    }\n",
       "</style>\n",
       "<table border=\"1\" class=\"dataframe\">\n",
       "  <thead>\n",
       "    <tr style=\"text-align: right;\">\n",
       "      <th></th>\n",
       "      <th>Line_order</th>\n",
       "      <th>Character</th>\n",
       "      <th>Dialogue</th>\n",
       "    </tr>\n",
       "  </thead>\n",
       "  <tbody>\n",
       "    <tr>\n",
       "      <th>1</th>\n",
       "      <td>1</td>\n",
       "      <td>THREEPIO</td>\n",
       "      <td>Did you hear that?  They've shut down the main...</td>\n",
       "    </tr>\n",
       "    <tr>\n",
       "      <th>2</th>\n",
       "      <td>2</td>\n",
       "      <td>THREEPIO</td>\n",
       "      <td>We're doomed!</td>\n",
       "    </tr>\n",
       "    <tr>\n",
       "      <th>3</th>\n",
       "      <td>3</td>\n",
       "      <td>THREEPIO</td>\n",
       "      <td>There'll be no escape for the Princess this time.</td>\n",
       "    </tr>\n",
       "    <tr>\n",
       "      <th>4</th>\n",
       "      <td>4</td>\n",
       "      <td>THREEPIO</td>\n",
       "      <td>What's that?</td>\n",
       "    </tr>\n",
       "    <tr>\n",
       "      <th>5</th>\n",
       "      <td>5</td>\n",
       "      <td>THREEPIO</td>\n",
       "      <td>I should have known better than to trust the l...</td>\n",
       "    </tr>\n",
       "    <tr>\n",
       "      <th>...</th>\n",
       "      <td>...</td>\n",
       "      <td>...</td>\n",
       "      <td>...</td>\n",
       "    </tr>\n",
       "    <tr>\n",
       "      <th>1006</th>\n",
       "      <td>1006</td>\n",
       "      <td>LUKE</td>\n",
       "      <td>Oh, no!</td>\n",
       "    </tr>\n",
       "    <tr>\n",
       "      <th>1007</th>\n",
       "      <td>1007</td>\n",
       "      <td>THREEPIO</td>\n",
       "      <td>Oh, my!  Artoo!  Can you hear me?  Say somethi...</td>\n",
       "    </tr>\n",
       "    <tr>\n",
       "      <th>1008</th>\n",
       "      <td>1008</td>\n",
       "      <td>TECHNICIAN</td>\n",
       "      <td>We'll get to work on him right away.</td>\n",
       "    </tr>\n",
       "    <tr>\n",
       "      <th>1009</th>\n",
       "      <td>1009</td>\n",
       "      <td>THREEPIO</td>\n",
       "      <td>You must repair him!  Sir, if any of my circui...</td>\n",
       "    </tr>\n",
       "    <tr>\n",
       "      <th>1010</th>\n",
       "      <td>1010</td>\n",
       "      <td>LUKE</td>\n",
       "      <td>He'll be all right.</td>\n",
       "    </tr>\n",
       "  </tbody>\n",
       "</table>\n",
       "<p>1010 rows × 3 columns</p>\n",
       "</div>"
      ],
      "text/plain": [
       "     Line_order   Character                                           Dialogue\n",
       "1             1    THREEPIO  Did you hear that?  They've shut down the main...\n",
       "2             2    THREEPIO                                      We're doomed!\n",
       "3             3    THREEPIO  There'll be no escape for the Princess this time.\n",
       "4             4    THREEPIO                                       What's that?\n",
       "5             5    THREEPIO  I should have known better than to trust the l...\n",
       "...         ...         ...                                                ...\n",
       "1006       1006        LUKE                                            Oh, no!\n",
       "1007       1007    THREEPIO  Oh, my!  Artoo!  Can you hear me?  Say somethi...\n",
       "1008       1008  TECHNICIAN               We'll get to work on him right away.\n",
       "1009       1009    THREEPIO  You must repair him!  Sir, if any of my circui...\n",
       "1010       1010        LUKE                                He'll be all right.\n",
       "\n",
       "[1010 rows x 3 columns]"
      ]
     },
     "execution_count": 7,
     "metadata": {},
     "output_type": "execute_result"
    }
   ],
   "source": [
    "sw_data"
   ]
  },
  {
   "cell_type": "markdown",
   "metadata": {},
   "source": [
    "Transform to Json"
   ]
  },
  {
   "cell_type": "code",
   "execution_count": 8,
   "metadata": {},
   "outputs": [],
   "source": [
    "sw_data.to_json(\"Data/SW_EpisodeIV.json\", orient=\"records\")"
   ]
  },
  {
   "cell_type": "markdown",
   "metadata": {},
   "source": [
    "## Llamando API"
   ]
  },
  {
   "cell_type": "markdown",
   "metadata": {},
   "source": [
    "Getting Dialogue and Characters from Line_order:"
   ]
  },
  {
   "cell_type": "code",
   "execution_count": 43,
   "metadata": {},
   "outputs": [
    {
     "data": {
      "text/plain": [
       "[{'Line_order': '800',\n",
       "  'Character': 'LEIA',\n",
       "  'Dialogue': \"We don't have time for our sorrows, commander.  The battle station has surely tracked us here.It's the only explanation for the ease of our escape.  You must use the information in this R2 unit to plan the attack.  It is our only hope.\"}]"
      ]
     },
     "execution_count": 43,
     "metadata": {},
     "output_type": "execute_result"
    }
   ],
   "source": [
    "url_query_line_order = \"http://localhost:5000/line_order/\"\n",
    "line = \"800\"\n",
    "line_order = requests.get(url_query_line_order + line)\n",
    "line_order.json()"
   ]
  },
  {
   "cell_type": "markdown",
   "metadata": {},
   "source": [
    "Getting Dialogue from Character:"
   ]
  },
  {
   "cell_type": "code",
   "execution_count": 32,
   "metadata": {
    "scrolled": false
   },
   "outputs": [
    {
     "data": {
      "text/plain": [
       "[{'Line_order': '12',\n",
       "  'Character': 'VADER',\n",
       "  'Dialogue': 'Where are those transmissions you intercepted?'},\n",
       " {'Line_order': '14',\n",
       "  'Character': 'VADER',\n",
       "  'Dialogue': 'If this is a consular ship... where is the Ambassador?'},\n",
       " {'Line_order': '15',\n",
       "  'Character': 'VADER',\n",
       "  'Dialogue': \"Commander, tear this ship apart until you've found those plans and bring me the Ambassador.  I want her alive!\"},\n",
       " {'Line_order': '43',\n",
       "  'Character': 'VADER',\n",
       "  'Dialogue': \"Don't play games with me, Your Highness.  You weren't on any mercy mission this time.  You passed directly through a restricted system.  Several transmissions were beamed to this ship by Rebel spies.  I want to know what happened to the plans they sent you.\"},\n",
       " {'Line_order': '45',\n",
       "  'Character': 'VADER',\n",
       "  'Dialogue': \"You're a part of the Rebel Alliance... and a traitor.  Take her away!\"},\n",
       " {'Line_order': '49',\n",
       "  'Character': 'VADER',\n",
       "  'Dialogue': 'Leave that to me.  Send a distress signal and then inform the senate that all aboard were killed!'},\n",
       " {'Line_order': '51',\n",
       "  'Character': 'VADER',\n",
       "  'Dialogue': \"She must have hidden the plans in the escape pod.  Send a detachment down to retrieve them.  See to it personally, Commander.  There'll be no one to stop us this time.\"},\n",
       " {'Line_order': '47',\n",
       "  'Character': 'VADER',\n",
       "  'Dialogue': 'I have traced the Rebel spies to her.  Now she is my only link to find their secret base!'},\n",
       " {'Line_order': '287',\n",
       "  'Character': 'VADER',\n",
       "  'Dialogue': 'The plans you refer to will soon be back in our hands.'},\n",
       " {'Line_order': '291',\n",
       "  'Character': 'VADER',\n",
       "  'Dialogue': 'I find your lack of faith disturbing.'},\n",
       " {'Line_order': '293', 'Character': 'VADER', 'Dialogue': 'As you wish.'},\n",
       " {'Line_order': '289',\n",
       "  'Character': 'VADER',\n",
       "  'Dialogue': \"Don't be too proud of this technological terror you've constructed.  The ability to destroy a planet is insignificant next to the power of the Force.\"},\n",
       " {'Line_order': '303',\n",
       "  'Character': 'VADER',\n",
       "  'Dialogue': 'And, now Your Highness, we will discuss the location of your hidden Rebel base.'},\n",
       " {'Line_order': '377',\n",
       "  'Character': 'VADER',\n",
       "  'Dialogue': 'Her resistance to the mind probe is considerable.  It will be some time before we can extract any information from her.'},\n",
       " {'Line_order': '380', 'Character': 'VADER', 'Dialogue': 'What do you mean?'},\n",
       " {'Line_order': '439',\n",
       "  'Character': 'VADER',\n",
       "  'Dialogue': 'Commence primary ignition.'},\n",
       " {'Line_order': '474',\n",
       "  'Character': 'VADER',\n",
       "  'Dialogue': 'I told you she would never consciously betray the Rebellion.'},\n",
       " {'Line_order': '516',\n",
       "  'Character': 'VADER',\n",
       "  'Dialogue': 'They must be trying to return the stolen plans to the princess.  She may yet be of some use to us.'},\n",
       " {'Line_order': '521',\n",
       "  'Character': 'VADER',\n",
       "  'Dialogue': 'Send a scanning crew on board.  I want every part of this ship checked.'},\n",
       " {'Line_order': '519',\n",
       "  'Character': 'VADER',\n",
       "  'Dialogue': 'Did you find any droids?'},\n",
       " {'Line_order': '523',\n",
       "  'Character': 'VADER',\n",
       "  'Dialogue': \"I sense something... a presence I haven't felt since...\"},\n",
       " {'Line_order': '616', 'Character': 'VADER', 'Dialogue': 'He is here...'},\n",
       " {'Line_order': '618',\n",
       "  'Character': 'VADER',\n",
       "  'Dialogue': 'A tremor in the Force.  The last time I felt it was in the presence of my old master.'},\n",
       " {'Line_order': '620',\n",
       "  'Character': 'VADER',\n",
       "  'Dialogue': \"Don't underestimate the Force.\"},\n",
       " {'Line_order': '627',\n",
       "  'Character': 'VADER',\n",
       "  'Dialogue': 'Escape may not his plan.  I must face him alone.'},\n",
       " {'Line_order': '625',\n",
       "  'Character': 'VADER',\n",
       "  'Dialogue': 'Obi-Wan is here.  The Force is with him.'},\n",
       " {'Line_order': '742',\n",
       "  'Character': 'VADER',\n",
       "  'Dialogue': \"I've been waiting for you, Obi-Wan.  We meet again, at last.  The circle is now complete.\"},\n",
       " {'Line_order': '745',\n",
       "  'Character': 'VADER',\n",
       "  'Dialogue': 'Your powers are weak, old man.'},\n",
       " {'Line_order': '743',\n",
       "  'Character': 'VADER',\n",
       "  'Dialogue': 'When I left you, I was but the learner; now I am the master.'},\n",
       " {'Line_order': '779',\n",
       "  'Character': 'VADER',\n",
       "  'Dialogue': 'They have just made the jump into hyperspace.'},\n",
       " {'Line_order': '812',\n",
       "  'Character': 'VADER',\n",
       "  'Dialogue': 'This will be a day long remembered.  It has seen the end of Kenobi and it will soon see the end of the Rebellion.'},\n",
       " {'Line_order': '869',\n",
       "  'Character': 'VADER',\n",
       "  'Dialogue': \"We'll have to destroy them ship to ship.  Get the crews to their fighters.\"},\n",
       " {'Line_order': '882',\n",
       "  'Character': 'VADER',\n",
       "  'Dialogue': 'Several fighters have broken off from the main group.  Come with me!'},\n",
       " {'Line_order': '900',\n",
       "  'Character': 'VADER',\n",
       "  'Dialogue': 'Stay in attack formation!'},\n",
       " {'Line_order': '912',\n",
       "  'Character': 'VADER',\n",
       "  'Dialogue': \"I'll take them myself!  Cover me!\"},\n",
       " {'Line_order': '943',\n",
       "  'Character': 'VADER',\n",
       "  'Dialogue': 'Close up formation.'},\n",
       " {'Line_order': '972',\n",
       "  'Character': 'VADER',\n",
       "  'Dialogue': 'Let him go!  Stay on the leader!'},\n",
       " {'Line_order': '978', 'Character': 'VADER', 'Dialogue': \"I'm on the leader.\"},\n",
       " {'Line_order': '982',\n",
       "  'Character': 'VADER',\n",
       "  'Dialogue': 'The Force is strong with this one!'},\n",
       " {'Line_order': '991', 'Character': 'VADER', 'Dialogue': 'I have you now.'},\n",
       " {'Line_order': '992', 'Character': 'VADER', 'Dialogue': 'What?'}]"
      ]
     },
     "execution_count": 32,
     "metadata": {},
     "output_type": "execute_result"
    }
   ],
   "source": [
    "url_query_dialogue = \"http://localhost:5000/dialogue/\"\n",
    "person = \"VADER\"\n",
    "dialogue = requests.get(url_query_dialogue + person)\n",
    "dialogue.json()"
   ]
  },
  {
   "cell_type": "markdown",
   "metadata": {},
   "source": [
    "Polarity:"
   ]
  },
  {
   "cell_type": "code",
   "execution_count": 57,
   "metadata": {},
   "outputs": [],
   "source": [
    "url_query_pol = \"http://localhost:5000/polarity/\"\n",
    "new = requests.get(url_query_pol)"
   ]
  },
  {
   "cell_type": "markdown",
   "metadata": {},
   "source": [
    "Compound:"
   ]
  },
  {
   "cell_type": "code",
   "execution_count": 56,
   "metadata": {},
   "outputs": [],
   "source": [
    "url_query_com = \"http://localhost:5000/compound/\"\n",
    "new = requests.get(url_query_com)"
   ]
  },
  {
   "cell_type": "markdown",
   "metadata": {},
   "source": [
    "Posting new dialogue for character in specific line:"
   ]
  },
  {
   "cell_type": "code",
   "execution_count": 51,
   "metadata": {},
   "outputs": [],
   "source": [
    "url_query_newpost = \"http://localhost:5000/new_dialogue/\""
   ]
  },
  {
   "cell_type": "code",
   "execution_count": 52,
   "metadata": {
    "scrolled": true
   },
   "outputs": [],
   "source": [
    "datos = {\n",
    "\"Line_order\": \"944\",\n",
    "\"Character\": \"VADER\",\n",
    "\"Dialogue\": \"Dont let that m***** f***** escape\"\n",
    "}"
   ]
  },
  {
   "cell_type": "code",
   "execution_count": 53,
   "metadata": {},
   "outputs": [
    {
     "data": {
      "text/plain": [
       "<Response [404]>"
      ]
     },
     "execution_count": 53,
     "metadata": {},
     "output_type": "execute_result"
    }
   ],
   "source": [
    "new_post = requests.post(url_query_newpost, data = datos)\n",
    "new_post"
   ]
  },
  {
   "cell_type": "code",
   "execution_count": null,
   "metadata": {},
   "outputs": [],
   "source": []
  }
 ],
 "metadata": {
  "kernelspec": {
   "display_name": "Python 3",
   "language": "python",
   "name": "python3"
  },
  "language_info": {
   "codemirror_mode": {
    "name": "ipython",
    "version": 3
   },
   "file_extension": ".py",
   "mimetype": "text/x-python",
   "name": "python",
   "nbconvert_exporter": "python",
   "pygments_lexer": "ipython3",
   "version": "3.9.0"
  }
 },
 "nbformat": 4,
 "nbformat_minor": 4
}
